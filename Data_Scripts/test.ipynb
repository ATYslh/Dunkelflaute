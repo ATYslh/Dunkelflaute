{
 "cells": [
  {
   "cell_type": "code",
   "execution_count": 1,
   "id": "59362762",
   "metadata": {},
   "outputs": [
    {
     "name": "stdout",
     "output_type": "stream",
     "text": [
      "['calc_wind.py', 'test.ipynb', 'find_data.py', 'EUR-11_mask.nc', 'main.py', 'calc_dunkelflaute.py', 'Bash_region.sh', 'helper_functions.py', 'nukleus_files.json', 'calc_pv.py', 'Bash_main.sh', '__pycache__', 'regional.o18916722', 'config.yaml', ' __init__.py', 'regional_data.py', 'CEU-3_mask.nc']\n",
      "True\n"
     ]
    }
   ],
   "source": [
    "import os\n",
    "\n",
    "print(os.listdir('/work/bb1203/g260190_heinrich/Dunkelflaute/Data_Scripts'))\n",
    "print(os.path.exists('/work/bb1203/g260190_heinrich/Dunkelflaute/Data_Scripts'))"
   ]
  },
  {
   "cell_type": "code",
   "execution_count": 27,
   "id": "6ac33a7b",
   "metadata": {},
   "outputs": [],
   "source": [
    "import xarray as xr\n",
    "import pandas as pd\n",
    "import os\n",
    "import json\n",
    "import re\n",
    "def get_sorted_nc_files(folder_path: str, substring=None):\n",
    "    \"\"\"\n",
    "    Returns a sorted list of all nc_files in the folder_path.\n",
    "    \"\"\"\n",
    "    nc_files = [\n",
    "        os.path.join(folder_path, f)\n",
    "        for f in os.listdir(folder_path)\n",
    "        if f.endswith(\".nc\")\n",
    "        and os.path.isfile(os.path.join(folder_path, f))\n",
    "        and (substring is None or substring in f)\n",
    "    ]\n",
    "    return sorted(nc_files)\n",
    "\n",
    "info = {}\n",
    "files = get_sorted_nc_files(\"/work/bb1203/g260190_heinrich/Dunkelflaute/Data/Duisburg/Wind/\")\n",
    "for file in files:\n",
    "    if \"EUR-11\" in file:\n",
    "        continue\n",
    "\n",
    "    with xr.open_dataset(file) as df:\n",
    "        start = pd.to_datetime(df.time.values[0]).year\n",
    "        end = pd.to_datetime(df.time.values[-1]).year\n",
    "\n",
    "        base_name = os.path.basename(file)\n",
    "\n",
    "        info[base_name] = {}\n",
    "        if \"historical\" in file:\n",
    "            info[base_name][\"historical\"] = {\"start\": int(start), \"end\": int(end)}\n",
    "        else:\n",
    "            scenario = re.search(r'GWL\\dK', file)\n",
    "            if scenario:\n",
    "                scenario_key = scenario.group()\n",
    "                info[base_name][scenario_key] = {\"start\": int(start), \"end\": int(end)}\n",
    "\n",
    "\n",
    "        file_names = base_name.replace(\"CEU-3\", \"EUR-11\")\n",
    "        cleaned = re.sub(r'-GWL\\dK', '', file_names)\n",
    "        eur_11_file_split = cleaned.split(\"_\")\n",
    "\n",
    "        for match_file in files:\n",
    "            if all(sub in match_file for sub in eur_11_file_split):\n",
    "                match_base = os.path.basename(match_file)\n",
    "\n",
    "                if match_base not in info:\n",
    "                    info[match_base] = {}\n",
    "\n",
    "                if \"historical\" in file:\n",
    "                    info[match_base][\"historical\"] = {\"start\": int(start), \"end\": int(end)}\n",
    "                else:\n",
    "                    scenario = re.search(r'GWL\\dK', file)\n",
    "                    if scenario:\n",
    "                        scenario_key = scenario.group()\n",
    "                        info[match_base][scenario_key] = {\"start\": int(start), \"end\": int(end)}\n",
    "                break\n",
    "\n",
    "\n",
    "with open(\"json_file.json\", \"w\") as file:\n",
    "            json.dump(info, file, indent=4)\n"
   ]
  }
 ],
 "metadata": {
  "kernelspec": {
   "display_name": "checker",
   "language": "python",
   "name": "python3"
  },
  "language_info": {
   "codemirror_mode": {
    "name": "ipython",
    "version": 3
   },
   "file_extension": ".py",
   "mimetype": "text/x-python",
   "name": "python",
   "nbconvert_exporter": "python",
   "pygments_lexer": "ipython3",
   "version": "3.12.11"
  }
 },
 "nbformat": 4,
 "nbformat_minor": 5
}
