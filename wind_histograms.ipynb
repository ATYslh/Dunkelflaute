{
 "cells": [
  {
   "cell_type": "code",
   "execution_count": 1,
   "id": "d41231bd",
   "metadata": {},
   "outputs": [
    {
     "name": "stdout",
     "output_type": "stream",
     "text": [
      "Starting\n"
     ]
    },
    {
     "ename": "",
     "evalue": "",
     "output_type": "error",
     "traceback": [
      "\u001b[1;31mThe Kernel crashed while executing code in the current cell or a previous cell. \n",
      "\u001b[1;31mPlease review the code in the cell(s) to identify a possible cause of the failure. \n",
      "\u001b[1;31mClick <a href='https://aka.ms/vscodeJupyterKernelCrash'>here</a> for more info. \n",
      "\u001b[1;31mView Jupyter <a href='command:jupyter.viewOutput'>log</a> for further details."
     ]
    }
   ],
   "source": [
    "import xarray as xr\n",
    "import matplotlib.pyplot as plt\n",
    "import numpy as np\n",
    "\n",
    "input_file=\"Wind/EUR-11_MPI-M-MPI-ESM1-2-HR_historical_CLMcom-Hereon-CCLM-6-0-clm3_wind.nc\"\n",
    "\n",
    "fig, axes = plt.subplots(nrows=1, ncols=1, figsize=(14, 4.5),layout='compressed')\n",
    "print(\"Starting\")\n",
    "with xr.open_dataset(input_file) as df:\n",
    "    wind_data = df[\"sfcWind\"].values\n",
    "    print(f\"Finished loading data\")\n",
    "    wind_data_clean = wind_data[~np.isnan(wind_data)]\n",
    "    \n",
    "    counts, bins = np.histogram(wind_data_clean)\n",
    "    plt.stairs(counts, bins)\n",
    "    plt.title(\"Histogram of Surface Wind (NaNs excluded)\")\n",
    "    plt.xlabel(\"Wind Speed\")\n",
    "    plt.ylabel(\"Frequency\")\n",
    "    plt.show()\n"
   ]
  }
 ],
 "metadata": {
  "kernelspec": {
   "display_name": "checker",
   "language": "python",
   "name": "python3"
  },
  "language_info": {
   "codemirror_mode": {
    "name": "ipython",
    "version": 3
   },
   "file_extension": ".py",
   "mimetype": "text/x-python",
   "name": "python",
   "nbconvert_exporter": "python",
   "pygments_lexer": "ipython3",
   "version": "3.12.11"
  }
 },
 "nbformat": 4,
 "nbformat_minor": 5
}
